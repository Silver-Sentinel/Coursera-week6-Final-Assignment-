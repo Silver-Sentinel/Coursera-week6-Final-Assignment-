{
 "cells": [
  {
   "cell_type": "markdown",
   "id": "5915604a-e647-4d85-9f6a-f6b8fdf2d0cf",
   "metadata": {},
   "source": [
    "# Data Science Tools and Ecosystem"
   ]
  },
  {
   "cell_type": "markdown",
   "id": "cb168000-0dfb-4017-97a0-f0a11668cc41",
   "metadata": {},
   "source": [
    "# Data Science Tools and Ecosystem"
   ]
  },
  {
   "cell_type": "markdown",
   "id": "b0dc8112-d084-42a8-9dc5-c3d70fdda055",
   "metadata": {},
   "source": [
    "## Author  - Rickey Jackson"
   ]
  },
  {
   "cell_type": "markdown",
   "id": "bb4c88cf-0d35-4227-b809-53af981169b1",
   "metadata": {},
   "source": [
    "Data Science Tools and Ecosystem are summarized in this notebook."
   ]
  },
  {
   "cell_type": "markdown",
   "id": "9d50c20b-bfe1-4a7b-86fe-722e2fc4ad1d",
   "metadata": {},
   "source": [
    "**Objectives:**\n",
    "- List popular languages that Data Scientists use\n",
    "- List commonly used languages\n",
    "- List data scientist tools\n",
    "- Show an arithmetic expressions"
   ]
  },
  {
   "cell_type": "markdown",
   "id": "5f3a42d0-786b-4c68-a7d0-f0d62a4fc408",
   "metadata": {},
   "source": [
    "Some of the popular languages that Data Scientists use are:\n",
    "1. Python\n",
    "2. R\n",
    "3. SQL\n",
    "4. Scala\n",
    "5. Java\n",
    "6. C++\n",
    "7. Julia"
   ]
  },
  {
   "cell_type": "markdown",
   "id": "78102141-ba00-4436-9c23-782fc6c0c080",
   "metadata": {},
   "source": [
    "Some of the commonly used libraries used by Data Scientists include:\n",
    "1. Pandas\n",
    "2. NumPy\n",
    "3. Matplotlib\n",
    "4. Seaborn\n",
    "5. Scikit-learn\n",
    "6. Keras\n",
    "7. Tensorflow\n",
    "8. Pytorch"
   ]
  },
  {
   "cell_type": "markdown",
   "id": "5a9492d4-b356-451a-9abd-6ffc3f991fd0",
   "metadata": {},
   "source": [
    "| Data Science Tools |\n",
    "------\n",
    "|JupyterLab|\n",
    "|VS Code|\n",
    "|Anaconda|"
   ]
  },
  {
   "cell_type": "markdown",
   "id": "2ffa3867-e8ec-4f76-8dbe-e49344add453",
   "metadata": {},
   "source": [
    "### Below are a few examples of evaluating arithmetic expressions in Python"
   ]
  },
  {
   "cell_type": "code",
   "execution_count": 2,
   "id": "9620ff58-6d5d-4418-9977-99a02a86ff23",
   "metadata": {
    "tags": []
   },
   "outputs": [
    {
     "data": {
      "text/plain": [
       "17"
      ]
     },
     "execution_count": 2,
     "metadata": {},
     "output_type": "execute_result"
    }
   ],
   "source": [
    "# This a simple arithmetic expression to mutiply then add integers\n",
    "(3*4)+5"
   ]
  },
  {
   "cell_type": "code",
   "execution_count": 3,
   "id": "b90af714-d708-4f03-aa2d-c607b43b5ace",
   "metadata": {
    "tags": []
   },
   "outputs": [
    {
     "data": {
      "text/plain": [
       "3.3333333333333335"
      ]
     },
     "execution_count": 3,
     "metadata": {},
     "output_type": "execute_result"
    }
   ],
   "source": [
    "# This will convert 200 minutes to hours by diving by 60\n",
    "200/60"
   ]
  },
  {
   "cell_type": "code",
   "execution_count": null,
   "id": "fc0ed7b8-95f5-46f5-8073-6681a516ba91",
   "metadata": {},
   "outputs": [],
   "source": []
  }
 ],
 "metadata": {
  "kernelspec": {
   "display_name": "Python",
   "language": "python",
   "name": "conda-env-python-py"
  },
  "language_info": {
   "codemirror_mode": {
    "name": "ipython",
    "version": 3
   },
   "file_extension": ".py",
   "mimetype": "text/x-python",
   "name": "python",
   "nbconvert_exporter": "python",
   "pygments_lexer": "ipython3",
   "version": "3.7.12"
  }
 },
 "nbformat": 4,
 "nbformat_minor": 5
}
